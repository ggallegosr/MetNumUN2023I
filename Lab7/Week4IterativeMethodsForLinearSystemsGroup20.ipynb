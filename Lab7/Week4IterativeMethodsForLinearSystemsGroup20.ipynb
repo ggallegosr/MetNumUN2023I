{
  "cells": [
    {
      "cell_type": "markdown",
      "source": [
        "**GRUPO 20**\n",
        "\n",
        "Diaz Cajamarca, Daniel Felipe - ddiazcaj@unal.edu.co\n",
        "\n",
        "Forero Briceño, Brandon Styven - bforerob@unal.edu.co\n",
        "\n",
        "Gallegos Rubio, Gabriela - ggallegosr@unal.edu.co"
      ],
      "metadata": {
        "id": "Soj61AhfCwbb"
      }
    },
    {
      "cell_type": "markdown",
      "metadata": {
        "id": "_7zSSeX21Grj"
      },
      "source": [
        "# Simple iteration for systems of linear equations"
      ]
    },
    {
      "cell_type": "markdown",
      "metadata": {
        "id": "GRz8VJ0N1Grn"
      },
      "source": [
        "First, generate a random diagonally dominant matrix, for testing."
      ]
    },
    {
      "cell_type": "code",
      "execution_count": 1,
      "metadata": {
        "collapsed": true,
        "id": "jTVkb-WZ1Gro"
      },
      "outputs": [],
      "source": [
        "import numpy as np\n",
        "rndm = np.random.RandomState(1234)\n",
        "\n",
        "n = 10\n",
        "A = rndm.uniform(size=(n, n)) + np.diagflat([15]*n)\n",
        "b = rndm.uniform(size=n)"
      ]
    },
    {
      "cell_type": "code",
      "source": [
        "A"
      ],
      "metadata": {
        "id": "4mv5q-nMKZwY",
        "outputId": "167bc674-7e07-4680-d0d5-9fe14486cb36",
        "colab": {
          "base_uri": "https://localhost:8080/"
        }
      },
      "execution_count": 2,
      "outputs": [
        {
          "output_type": "execute_result",
          "data": {
            "text/plain": [
              "array([[1.51915195e+01, 6.22108771e-01, 4.37727739e-01, 7.85358584e-01,\n",
              "        7.79975808e-01, 2.72592605e-01, 2.76464255e-01, 8.01872178e-01,\n",
              "        9.58139354e-01, 8.75932635e-01],\n",
              "       [3.57817270e-01, 1.55009951e+01, 6.83462935e-01, 7.12702027e-01,\n",
              "        3.70250755e-01, 5.61196186e-01, 5.03083165e-01, 1.37684496e-02,\n",
              "        7.72826622e-01, 8.82641191e-01],\n",
              "       [3.64885984e-01, 6.15396178e-01, 1.50753812e+01, 3.68824006e-01,\n",
              "        9.33140102e-01, 6.51378143e-01, 3.97202578e-01, 7.88730143e-01,\n",
              "        3.16836122e-01, 5.68098653e-01],\n",
              "       [8.69127390e-01, 4.36173424e-01, 8.02147642e-01, 1.51437668e+01,\n",
              "        7.04260971e-01, 7.04581308e-01, 2.18792106e-01, 9.24867629e-01,\n",
              "        4.42140755e-01, 9.09315959e-01],\n",
              "       [5.98092228e-02, 1.84287084e-01, 4.73552788e-02, 6.74880944e-01,\n",
              "        1.55946248e+01, 5.33310163e-01, 4.33240627e-02, 5.61433080e-01,\n",
              "        3.29668446e-01, 5.02966833e-01],\n",
              "       [1.11894318e-01, 6.07193706e-01, 5.65944643e-01, 6.76406199e-03,\n",
              "        6.17441709e-01, 1.59121229e+01, 7.90524133e-01, 9.92081466e-01,\n",
              "        9.58801762e-01, 7.91964135e-01],\n",
              "       [2.85250960e-01, 6.24916705e-01, 4.78093796e-01, 1.95675179e-01,\n",
              "        3.82317452e-01, 5.38736851e-02, 1.54516484e+01, 9.82004742e-01,\n",
              "        1.23942700e-01, 1.19380898e-01],\n",
              "       [7.38523056e-01, 5.87303633e-01, 4.71632534e-01, 1.07126817e-01,\n",
              "        2.29218565e-01, 8.99965195e-01, 4.16753538e-01, 1.55358517e+01,\n",
              "        6.20851659e-03, 3.00641706e-01],\n",
              "       [4.36893172e-01, 6.12148997e-01, 9.18198075e-01, 6.25736670e-01,\n",
              "        7.05997565e-01, 1.49833716e-01, 7.46063409e-01, 8.31006992e-01,\n",
              "        1.56337258e+01, 4.38309881e-01],\n",
              "       [1.52572775e-01, 5.68409615e-01, 5.28224278e-01, 9.51428764e-01,\n",
              "        4.80359179e-01, 5.02559563e-01, 5.36878193e-01, 8.19202067e-01,\n",
              "        5.71156381e-02, 1.56694217e+01]])"
            ]
          },
          "metadata": {},
          "execution_count": 2
        }
      ]
    },
    {
      "cell_type": "markdown",
      "metadata": {
        "id": "oNGIGBex1Grq"
      },
      "source": [
        "# I.  Jacobi iteration\n",
        "\n",
        "Given\n",
        "\n",
        "$$\n",
        "A x = b\n",
        "$$\n",
        "\n",
        "separate the diagonal part $D$,\n",
        "\n",
        "$$ A = D + (A - D) $$\n",
        "\n",
        "and write\n",
        "\n",
        "$$\n",
        "x = D^{-1} (D - A) x + D^{-1} b\\;.\n",
        "$$\n",
        "\n",
        "Then iterate\n",
        "\n",
        "$$\n",
        "x_{n + 1} = B x_{n} + c\\;,\n",
        "$$\n",
        "\n",
        "where \n",
        "\n",
        "$$\n",
        "B = D^{-1} (A - D) \\qquad \\text{and} \\qquad c = D^{-1} b\n",
        "$$\n"
      ]
    },
    {
      "cell_type": "markdown",
      "metadata": {
        "id": "rB2PHHIK1Grr"
      },
      "source": [
        "Let's construct the matrix and the r.h.s. for the Jacobi iteration"
      ]
    },
    {
      "cell_type": "code",
      "execution_count": 3,
      "metadata": {
        "id": "bnk796g61Grr"
      },
      "outputs": [],
      "source": [
        "diag_1d = np.diag(A)\n",
        "\n",
        "B = -A.copy()\n",
        "np.fill_diagonal(B, 0)\n",
        "\n",
        "D = np.diag(diag_1d)\n",
        "invD = np.diag(1./diag_1d)\n",
        "BB = invD @ B \n",
        "c = invD @ b"
      ]
    },
    {
      "cell_type": "code",
      "execution_count": 4,
      "metadata": {
        "id": "0NTUyC3i1Grs"
      },
      "outputs": [],
      "source": [
        "# sanity checks\n",
        "from numpy.testing import assert_allclose\n",
        "\n",
        "assert_allclose(-B + D, A)\n",
        "\n",
        "\n",
        "# xx is a \"ground truth\" solution, compute it using a direct method\n",
        "xx = np.linalg.solve(A, b)\n",
        "\n",
        "np.testing.assert_allclose(A@xx, b)\n",
        "np.testing.assert_allclose(D@xx, B@xx + b)\n",
        "np.testing.assert_allclose(xx, BB@xx + c)"
      ]
    },
    {
      "cell_type": "markdown",
      "metadata": {
        "id": "nRaVUE6U1Grt"
      },
      "source": [
        "Check that $\\| B\\| \\leqslant 1$:"
      ]
    },
    {
      "cell_type": "code",
      "execution_count": 5,
      "metadata": {
        "id": "zgED2OGu1Gru",
        "outputId": "3f04b06f-142b-4586-a69d-3e205dbd2afb",
        "colab": {
          "base_uri": "https://localhost:8080/"
        }
      },
      "outputs": [
        {
          "output_type": "execute_result",
          "data": {
            "text/plain": [
              "0.36436161983015336"
            ]
          },
          "metadata": {},
          "execution_count": 5
        }
      ],
      "source": [
        "np.linalg.norm(BB)"
      ]
    },
    {
      "cell_type": "markdown",
      "metadata": {
        "id": "rlBcusqg1Grv"
      },
      "source": [
        "### Do the Jacobi iteration"
      ]
    },
    {
      "cell_type": "code",
      "execution_count": 6,
      "metadata": {
        "collapsed": true,
        "id": "NK6iwDtm1Grv"
      },
      "outputs": [],
      "source": [
        "n_iter = 50\n",
        "\n",
        "x0 = np.ones(n)\n",
        "x = x0\n",
        "for _ in range(n_iter):\n",
        "    x = BB @ x + c"
      ]
    },
    {
      "cell_type": "code",
      "execution_count": 7,
      "metadata": {
        "id": "gsLyio7W1Grw",
        "outputId": "5280debf-5445-4699-ac4a-358ed5179134",
        "colab": {
          "base_uri": "https://localhost:8080/"
        }
      },
      "outputs": [
        {
          "output_type": "execute_result",
          "data": {
            "text/plain": [
              "array([ 1.11022302e-16,  0.00000000e+00, -2.22044605e-16, -1.11022302e-16,\n",
              "        1.11022302e-16,  0.00000000e+00, -2.42861287e-17,  0.00000000e+00,\n",
              "       -2.77555756e-17,  1.11022302e-16])"
            ]
          },
          "metadata": {},
          "execution_count": 7
        }
      ],
      "source": [
        "# Check the result:\n",
        "\n",
        "A @ x - b"
      ]
    },
    {
      "cell_type": "markdown",
      "metadata": {
        "id": "MXfb9BuT1Grw"
      },
      "source": [
        "### Task I.1\n",
        "\n",
        "Collect the proof-of-concept above into a single function implementing the Jacobi iteration. This function should receive the r.h.s. matrix $A$, the l.h.s. vector `b`, and the number of iterations to perform.\n",
        "\n",
        "\n",
        "The matrix $A$ in the illustration above is strongly diagonally dominant, by construction. \n",
        "What happens if the diagonal matrix elements of $A$ are made smaller? Check the convergence of the Jacobi iteration, and check the value of the norm of $B$.\n",
        "\n",
        "(20% of the total grade)\n"
      ]
    },
    {
      "cell_type": "code",
      "execution_count": 8,
      "metadata": {
        "collapsed": true,
        "id": "5zqTUVVa1Grw"
      },
      "outputs": [],
      "source": [
        "import numpy as np\n",
        "\n",
        "def jacobi_iteration(A, b, num_iterations):\n",
        "    n = len(b)\n",
        "    x = np.zeros(n)  # Initialize the solution vector\n",
        "\n",
        "    for _ in range(num_iterations):\n",
        "        x_new = np.zeros(n)  # Initialize a new solution vector\n",
        "        \n",
        "        for i in range(n):\n",
        "            sum_term = np.dot(A[i, :i], x[:i]) + np.dot(A[i, i+1:], x[i+1:])\n",
        "            x_new[i] = (b[i] - sum_term) / A[i, i]\n",
        "\n",
        "        x = x_new\n",
        "\n",
        "    return x\n",
        "\n"
      ]
    },
    {
      "cell_type": "code",
      "source": [
        "jacobi_iteration(A,b,n_iter)"
      ],
      "metadata": {
        "colab": {
          "base_uri": "https://localhost:8080/"
        },
        "id": "yeKTF3vMtlhc",
        "outputId": "3d8c99fc-078e-40f9-aa7e-2e002a5d750e"
      },
      "execution_count": 9,
      "outputs": [
        {
          "output_type": "execute_result",
          "data": {
            "text/plain": [
              "array([ 0.03919429,  0.03780037,  0.04283232,  0.02365951,  0.05745031,\n",
              "       -0.00030244, -0.00577279,  0.03177549, -0.00422849,  0.05284648])"
            ]
          },
          "metadata": {},
          "execution_count": 9
        }
      ]
    },
    {
      "cell_type": "code",
      "source": [
        "def jacobi_iterationb(A, b, num_iterations, tolerance):\n",
        "    n = len(b)\n",
        "    x = np.zeros(n)  # Initialize the solution vector\n",
        "\n",
        "    for k in range(num_iterations):\n",
        "        x_new = np.zeros(n)  # Initialize a new solution vector\n",
        "        \n",
        "        for i in range(n):\n",
        "            sum_term = np.dot(A[i, :i], x[:i]) + np.dot(A[i, i+1:], x[i+1:])\n",
        "            x_new[i] = (b[i] - sum_term) / A[i, i]\n",
        "\n",
        "        norm_diff = np.linalg.norm(x_new - x)\n",
        "        if norm_diff < tolerance:\n",
        "            print(\"Convergence achieved after\", k+1, \"iterations.\")\n",
        "            break\n",
        "\n",
        "        x = x_new\n",
        "\n",
        "    return x"
      ],
      "metadata": {
        "id": "8G694-IQtU1I"
      },
      "execution_count": 10,
      "outputs": []
    },
    {
      "cell_type": "code",
      "source": [
        "jacobi_iterationb(A,b,n_iter,0.1)"
      ],
      "metadata": {
        "colab": {
          "base_uri": "https://localhost:8080/"
        },
        "id": "2zs4nTALuZLQ",
        "outputId": "d7a1f310-77a5-43b2-eafc-7cef40bfb2b1"
      },
      "execution_count": 11,
      "outputs": [
        {
          "output_type": "stream",
          "name": "stdout",
          "text": [
            "Convergence achieved after 2 iterations.\n"
          ]
        },
        {
          "output_type": "execute_result",
          "data": {
            "text/plain": [
              "array([0.05049637, 0.04568193, 0.05285884, 0.03683105, 0.06193394,\n",
              "       0.0092481 , 0.00191869, 0.03822729, 0.00729613, 0.06067932])"
            ]
          },
          "metadata": {},
          "execution_count": 11
        }
      ]
    },
    {
      "cell_type": "markdown",
      "metadata": {
        "id": "xBnguRFT1Grx"
      },
      "source": [
        "# II. Seidel's iteration."
      ]
    },
    {
      "cell_type": "markdown",
      "metadata": {
        "id": "rSbuFdYU1Grx"
      },
      "source": [
        "##### Task II.1\n",
        "\n",
        "Implement the Seidel's iteration. \n",
        "\n",
        "Test it on a random matrix. Study the convergence of iterations, relate to the norm of the iteration matrix.\n",
        "\n",
        "(30% of the total grade)"
      ]
    },
    {
      "cell_type": "code",
      "source": [
        "import numpy as np\n",
        "\n",
        "def seidel_iteration(A, b, n_iter):\n",
        "    n = len(A)\n",
        "    x = np.zeros(n)  # Start with an initial guess of zeros\n",
        "\n",
        "    for _ in range(n_iter):\n",
        "        for i in range(n):\n",
        "            x[i] = (b[i] - np.dot(A[i, :i], x[:i]) - np.dot(A[i, i + 1:], x[i + 1:])) / A[i, i]\n",
        "\n",
        "    residual = A @ x - b\n",
        "    norm_B = np.linalg.norm(A - np.diag(np.diag(A)))\n",
        "\n",
        "    return x, residual, norm_B\n"
      ],
      "metadata": {
        "id": "4wgZsWRB0gJz"
      },
      "execution_count": 12,
      "outputs": []
    },
    {
      "cell_type": "code",
      "source": [
        "# Generate a random matrix A\n",
        "n = 10  # Size of the matrix\n",
        "A = np.random.rand(n, n)\n",
        "\n",
        "# Generate a random vector b\n",
        "b = np.random.rand(n)\n",
        "\n",
        "# Set the number of iterations\n",
        "num_iterations = 100\n",
        "\n",
        "# Perform the Seidel's iteration\n",
        "solution = seidel_iteration(A, b, num_iterations)\n",
        "\n",
        "print(\"Solution:\", solution)\n"
      ],
      "metadata": {
        "colab": {
          "base_uri": "https://localhost:8080/"
        },
        "id": "tucAkDQevGDt",
        "outputId": "b19f281f-c2ca-4328-ef58-e2c6724f4cf9"
      },
      "execution_count": 13,
      "outputs": [
        {
          "output_type": "stream",
          "name": "stdout",
          "text": [
            "Solution: (array([-8.48659705e+64,  2.70162830e+65, -9.73088482e+65,  8.84757007e+65,\n",
            "       -3.08794622e+65, -1.58093200e+65, -2.90644973e+65, -3.93154134e+65,\n",
            "        6.51354654e+65, -7.01347886e+65]), array([-2.15141335e+65, -2.68005992e+65, -1.79077977e+65, -9.63303622e+65,\n",
            "       -4.70101319e+65, -6.62389545e+65, -2.36385902e+65, -3.07449737e+65,\n",
            "       -1.01005943e+65, -1.51996170e+50]), 5.849139239003759)\n"
          ]
        }
      ]
    },
    {
      "cell_type": "code",
      "source": [
        "# Calculate the iteration matrix B\n",
        "D = np.diag(np.diag(A))\n",
        "L = np.tril(A, k=-1)\n",
        "U = np.triu(A, k=1)\n",
        "B = -np.linalg.inv(D).dot(L + U)\n",
        "\n",
        "# Calculate the norm of B\n",
        "norm_B = np.linalg.norm(B)\n",
        "\n",
        "print(\"Norm of B:\", norm_B)\n"
      ],
      "metadata": {
        "colab": {
          "base_uri": "https://localhost:8080/"
        },
        "id": "tggNqdJ4vQPA",
        "outputId": "ffa5055a-734e-4581-d4e4-dfbf562fbca7"
      },
      "execution_count": 14,
      "outputs": [
        {
          "output_type": "stream",
          "name": "stdout",
          "text": [
            "Norm of B: 19.255375406274233\n"
          ]
        }
      ]
    },
    {
      "cell_type": "markdown",
      "metadata": {
        "id": "y3PDxY8W1Gry"
      },
      "source": [
        "# III. Minimum residual scheme"
      ]
    },
    {
      "cell_type": "markdown",
      "metadata": {
        "id": "IbfUD6zy1Gry"
      },
      "source": [
        "### Task III.1\n",
        "\n",
        "Implement the $\\textit{minimum residual}$ scheme: an explicit non-stationary method, where at each step you select the iteration parameter $\\tau_n$ to minimize the residual $\\mathbf{r}_{n+1}$ given $\\mathbf{r}_n$. Test it on a random matrix, study the convergence to the solution, in terms of the norm of the residual and the deviation from the ground truth solution (which you can obtain using a direct method). Study how the iteration parameter $\\tau_n$ changes as iterations progress.\n",
        "\n",
        "(50% of the grade)"
      ]
    },
    {
      "cell_type": "code",
      "execution_count": 15,
      "metadata": {
        "collapsed": true,
        "id": "60_IGETi1Gry"
      },
      "outputs": [],
      "source": [
        "import numpy as np\n",
        "\n",
        "def minimum_residual_scheme(A, b, num_iterations):\n",
        "    n = len(b)\n",
        "    x = np.zeros(n)  # Initialize the solution vector\n",
        "\n",
        "    for _ in range(num_iterations):\n",
        "        r = b - A.dot(x)  # Compute the residual vector\n",
        "        alpha = np.dot(r, r) / np.dot(r, A.dot(r))  # Compute the iteration parameter\n",
        "        x = x + alpha * r  # Update the solution vector\n",
        "\n",
        "    return x\n"
      ]
    },
    {
      "cell_type": "code",
      "source": [
        "# Generate a random matrix A\n",
        "n = 10  # Size of the matrix\n",
        "A = np.random.rand(n, n)\n",
        "\n",
        "# Generate a random vector b\n",
        "b = np.random.rand(n)\n",
        "\n",
        "# Set the number of iterations\n",
        "num_iterations = 100\n",
        "\n",
        "# Perform the minimum residual scheme\n",
        "solution = minimum_residual_scheme(A, b, num_iterations)\n",
        "\n",
        "print(\"Solution:\", solution)\n"
      ],
      "metadata": {
        "colab": {
          "base_uri": "https://localhost:8080/"
        },
        "id": "bgnAr2ukvmCS",
        "outputId": "5de3f771-f422-4757-9c0f-0cfc1276f9a3"
      },
      "execution_count": 16,
      "outputs": [
        {
          "output_type": "stream",
          "name": "stdout",
          "text": [
            "Solution: [-1.40101213e+08 -6.74960172e+08 -1.37650903e+09  7.58497700e+08\n",
            "  6.81508723e+08 -1.72770210e+09  1.06192437e+09 -1.41462453e+09\n",
            " -1.66796138e+06  1.08739893e+09]\n"
          ]
        }
      ]
    },
    {
      "cell_type": "code",
      "source": [
        "# Calculate the ground truth solution using a direct method\n",
        "ground_truth_solution = np.linalg.solve(A, b)\n",
        "\n",
        "# Calculate the residual\n",
        "residual = b - A.dot(solution)\n",
        "\n",
        "# Calculate the norm of the residual\n",
        "norm_residual = np.linalg.norm(residual)\n",
        "\n",
        "# Calculate the deviation from the ground truth solution\n",
        "deviation = np.linalg.norm(solution - ground_truth_solution)\n",
        "\n",
        "print(\"Norm of the residual:\", norm_residual)\n",
        "print(\"Deviation from the ground truth solution:\", deviation)\n"
      ],
      "metadata": {
        "colab": {
          "base_uri": "https://localhost:8080/"
        },
        "id": "Zqs47kIfvmH0",
        "outputId": "9dd25e6f-f530-402b-bfd6-0acd836f467d"
      },
      "execution_count": 17,
      "outputs": [
        {
          "output_type": "stream",
          "name": "stdout",
          "text": [
            "Norm of the residual: 2539068806.826225\n",
            "Deviation from the ground truth solution: 3272000805.5458045\n"
          ]
        }
      ]
    }
  ],
  "metadata": {
    "kernelspec": {
      "display_name": "Python 3",
      "language": "python",
      "name": "python3"
    },
    "language_info": {
      "codemirror_mode": {
        "name": "ipython",
        "version": 3
      },
      "file_extension": ".py",
      "mimetype": "text/x-python",
      "name": "python",
      "nbconvert_exporter": "python",
      "pygments_lexer": "ipython3",
      "version": "3.5.2"
    },
    "colab": {
      "provenance": []
    }
  },
  "nbformat": 4,
  "nbformat_minor": 0
}