{
  "nbformat": 4,
  "nbformat_minor": 0,
  "metadata": {
    "colab": {
      "provenance": []
    },
    "kernelspec": {
      "name": "python3",
      "display_name": "Python 3"
    },
    "language_info": {
      "name": "python"
    }
  },
  "cells": [
    {
      "cell_type": "markdown",
      "source": [
        "**GRUPO 20  **\n",
        "\n",
        "Diaz Cajamarca, Daniel Felipe - ddiazcaj@unal.edu.co\n",
        "\n",
        "Forero Briceño, Brandon Styven - bforerob@unal.edu.co\n",
        "\n",
        "Gallegos Rubio, Gabriela - ggallegosr@unal.edu.co\n",
        "\n",
        "\\\\\n",
        "\n",
        "El laboratorio de desarrolla con $ln( x + 1 )$ puesto que cumplimos con (Group # mod 2 = 0 ) ya que somos el grupo 20."
      ],
      "metadata": {
        "id": "sJJKhk4uiaPC"
      }
    },
    {
      "cell_type": "markdown",
      "metadata": {
        "id": "ZuGY2wUTjFDm"
      },
      "source": [
        "# Taylor series of   $ln( x + 1 )$\n",
        "$$ \n",
        "\\begin{array}{lll}\n",
        "ln(x+1)\n",
        "        & = &  x - \\frac{x^2}{2} + \\frac{x^3}{3} - \\frac{x^4}{4} +\\frac{x^5}{5}- \\cdots +\\frac{x^n}{n} \\\\\n",
        "       ln(x+1) & =  & \\sum_{i=1}^{\\infty} (-1)^{i-1}\\frac{x^i}{i} \\\\\n",
        "\\end{array} \n",
        "$$ \\\\\n",
        "\n",
        "**Consideraciones importantes**: Esta serie converge para  $-1< x\\leq 1$. Entre más cerca se encuentre x de los límites se necesitará mayor exactitud para lograr una aproximación precisa de $ ln(x+1)$ . \n"
      ]
    },
    {
      "cell_type": "markdown",
      "metadata": {
        "id": "qylNUuxmQUzq"
      },
      "source": [
        "#What is value of the partial Taylor series of $e^x$ up to the  $10$-th term of $e^x$ about $0$ (Maclaurin  series) for $x=2$\n",
        "\n",
        "$$ e^{ x} \\approx \\sum_{i=1}^{n} \\frac{x^i}{i!}  = 1 + x + \\frac{x^2}{2!}+\\cdots+ \\frac{x^n}{n!}$$"
      ]
    },
    {
      "cell_type": "code",
      "metadata": {
        "colab": {
          "base_uri": "https://localhost:8080/"
        },
        "id": "UZyEw-hiQNU7",
        "outputId": "76a7488c-2fcd-4f53-9142-fb063b7ba692"
      },
      "source": [
        "# ∑_{i=0}^n  x^i/i\n",
        "\n",
        "import math\n",
        "\n",
        "n = 10\n",
        "x = 0.3\n",
        "ln_x_plus_1 = 0\n",
        "\n",
        "for i in range(1, n+1):\n",
        "    ln_x_plus_1 += (-1)**(i-1)*x**i/i\n",
        "    print('ln(x+1) ≈ ∑_{i=0}^'+str(i-1),'(-1)^i * x^i / (i+1) =', ln_x_plus_1)\n",
        "    \n",
        "print('math.exp(x) = ',math.log(x+1))"
      ],
      "execution_count": 20,
      "outputs": [
        {
          "output_type": "stream",
          "name": "stdout",
          "text": [
            "ln(x+1) ≈ ∑_{i=0}^0 (-1)^i * x^i / (i+1) = 0.3\n",
            "ln(x+1) ≈ ∑_{i=0}^1 (-1)^i * x^i / (i+1) = 0.255\n",
            "ln(x+1) ≈ ∑_{i=0}^2 (-1)^i * x^i / (i+1) = 0.264\n",
            "ln(x+1) ≈ ∑_{i=0}^3 (-1)^i * x^i / (i+1) = 0.261975\n",
            "ln(x+1) ≈ ∑_{i=0}^4 (-1)^i * x^i / (i+1) = 0.262461\n",
            "ln(x+1) ≈ ∑_{i=0}^5 (-1)^i * x^i / (i+1) = 0.2623395\n",
            "ln(x+1) ≈ ∑_{i=0}^6 (-1)^i * x^i / (i+1) = 0.26237074285714285\n",
            "ln(x+1) ≈ ∑_{i=0}^7 (-1)^i * x^i / (i+1) = 0.26236254160714284\n",
            "ln(x+1) ≈ ∑_{i=0}^8 (-1)^i * x^i / (i+1) = 0.2623647286071428\n",
            "ln(x+1) ≈ ∑_{i=0}^9 (-1)^i * x^i / (i+1) = 0.2623641381171428\n",
            "math.exp(x) =  0.26236426446749106\n"
          ]
        }
      ]
    },
    {
      "cell_type": "markdown",
      "source": [
        "# What is the minimun $n$ for which the error between the Taylor series for $e^x$ about $0$ (Maclaurin  series) for $x$ and *math.exp(x)*, is in absolute value less than  $\\epsilon$.\n",
        "\n",
        "$$\\min_{n \\in \\mathbb{N}}\\left|\\sum_{i=0}^{n} \\frac{x^i}{i!} - math.exp(x) \\right| < \\epsilon$$"
      ],
      "metadata": {
        "id": "EQulygu91CbA"
      }
    },
    {
      "cell_type": "code",
      "metadata": {
        "colab": {
          "base_uri": "https://localhost:8080/"
        },
        "id": "EfkY5SM7pZBL",
        "outputId": "23ec5d74-24f5-4ee1-eb4e-a3107ad80463"
      },
      "source": [
        "# Returns Min n, |∑_{i=1}^{n}  x^i/i! - math.exp(x)| < epsilon and ∑_{i=0}^{n} x^i/i!   \n",
        "import math\n",
        "\n",
        "x = 0.5\n",
        "epsilon = 10**(-5)\n",
        "\n",
        "ln = 0\n",
        "\n",
        "print(\"n\".rjust(10),\" \",\"∑_{i=1}^n x^i/i\".center(21),\" \",\"delta =x^i/i \".center(21),\" \",\"error\".center(14),\" \",\"epsilon\".center(20))\n",
        "error = 1\n",
        "i = 1\n",
        "\n",
        "while  epsilon <= error:\n",
        "  delta =  (-1)**(i-1)*x**i / i \n",
        "  ln += delta\n",
        "  error = abs(math.log(x+1) - ln)\n",
        "  print(format(i, '10'),\"  \", format(ln, '.18f'),\"  \",format(delta, '.17f'),\" \",format(error, '.17f'),\"  \",\"{:.0e}\".format(epsilon)) \n",
        "  i = i+1\n",
        "\n",
        "\n",
        "print(\"n =\",i-1) \n",
        "print(\"x =\",x) \n",
        "print('ln ≈ ∑_{i=1}^'+str(i-1),'x^i/i =',ln)  \n",
        "print(\"epsilon =\",\"{:.0e}\".format(epsilon)) \n",
        "print('math.log(x+1) = ',math.log(x+1))"
      ],
      "execution_count": 21,
      "outputs": [
        {
          "output_type": "stream",
          "name": "stdout",
          "text": [
            "         n      ∑_{i=1}^n x^i/i          delta =x^i/i            error              epsilon       \n",
            "         1    0.500000000000000000    0.50000000000000000   0.09453489189183562    1e-05\n",
            "         2    0.375000000000000000    -0.12500000000000000   0.03046510810816438    1e-05\n",
            "         3    0.416666666666666685    0.04166666666666666   0.01120155855850230    1e-05\n",
            "         4    0.401041666666666685    -0.01562500000000000   0.00442344144149770    1e-05\n",
            "         5    0.407291666666666663    0.00625000000000000   0.00182655855850228    1e-05\n",
            "         6    0.404687499999999978    -0.00260416666666667   0.00077760810816441    1e-05\n",
            "         7    0.405803571428571430    0.00111607142857143   0.00033846332040705    1e-05\n",
            "         8    0.405315290178571430    -0.00048828125000000   0.00014981792959295    1e-05\n",
            "         9    0.405532304067460325    0.00021701388888889   0.00006719595929594    1e-05\n",
            "        10    0.405434647817460303    -0.00009765625000000   0.00003046029070408    1e-05\n",
            "        11    0.405479037022005773    0.00004438920454545   0.00001392891384139    1e-05\n",
            "        12    0.405458691969922458    -0.00002034505208333   0.00000641613824193    1e-05\n",
            "n = 12\n",
            "x = 0.5\n",
            "ln ≈ ∑_{i=1}^12 x^i/i = 0.40545869196992246\n",
            "epsilon = 1e-05\n",
            "math.log(x+1) =  0.4054651081081644\n"
          ]
        }
      ]
    },
    {
      "cell_type": "code",
      "source": [
        "# Returns Min n, |∑_{i=1}^{n}  x^i/i! - math.exp(x)| < epsilon and ∑_{i=0}^{n} x^i/i!   \n",
        "import math\n",
        "\n",
        "x = -4\n",
        "epsilon = 10**(-5)\n",
        "\n",
        "e_to_x = 0\n",
        "\n",
        "print(\"n\".rjust(10),\" \",\"∑_{i=0}^n x^i/i!\".center(21),\" \",\"delta =x^i/i! \".center(21),\" \",\"error\".center(14),\" \",\"epsilon\".center(20))\n",
        "error = 1\n",
        "i = 0\n",
        "while  epsilon <= error:\n",
        "  delta =  x**i / math.factorial(i) \n",
        "  e_to_x += delta\n",
        "  error = abs(math.exp(x) - e_to_x)\n",
        "  print(format(i, '10'),\"  \", format(e_to_x, '.18f'),\"  \",format(delta, '.17f'),\" \",format(error, '.17f'),\"  \",\"{:.0e}\".format(epsilon)) \n",
        "  i = i+1\n",
        "\n",
        "\n",
        "print(\"n =\",i-1) \n",
        "print(\"x =\",x) \n",
        "print('e_to_x ≈ ∑_{i=0}^'+str(i-1),'x^i/i! =',e_to_x)  \n",
        "print(\"epsilon =\",\"{:.0e}\".format(epsilon)) \n",
        "print('math.exp(x) = ',math.exp(x))"
      ],
      "metadata": {
        "colab": {
          "base_uri": "https://localhost:8080/"
        },
        "id": "3Pn3ahtECboG",
        "outputId": "219206be-0f4c-4202-934d-732e3dde34de"
      },
      "execution_count": 22,
      "outputs": [
        {
          "output_type": "stream",
          "name": "stdout",
          "text": [
            "         n      ∑_{i=0}^n x^i/i!         delta =x^i/i!           error              epsilon       \n",
            "         0    1.000000000000000000    1.00000000000000000   0.98168436111126578    1e-05\n",
            "         1    -3.000000000000000000    -4.00000000000000000   3.01831563888873422    1e-05\n",
            "         2    5.000000000000000000    8.00000000000000000   4.98168436111126578    1e-05\n",
            "         3    -5.666666666666666075    -10.66666666666666607   5.68498230555540029    1e-05\n",
            "         4    5.000000000000000000    10.66666666666666607   4.98168436111126578    1e-05\n",
            "         5    -3.533333333333333215    -8.53333333333333321   3.55164897222206744    1e-05\n",
            "         6    2.155555555555555891    5.68888888888888911   2.13723991666682167    1e-05\n",
            "         7    -1.095238095238094900    -3.25079365079365079   1.11355373412682912    1e-05\n",
            "         8    0.530158730158730496    1.62539682539682540   0.51184309126999628    1e-05\n",
            "         9    -0.192239858906525285    -0.72239858906525578   0.21055549779525945    1e-05\n",
            "        10    0.096719576719576983    0.28895943562610227   0.07840393783084280    1e-05\n",
            "        11    -0.008356581689914766    -0.10507615840949175   0.02667222057864894    1e-05\n",
            "        12    0.026668804446582484    0.03502538613649725   0.00835316555784830    1e-05\n",
            "        13    0.015891762558429487    -0.01077704188815300   0.00242387633030469    1e-05\n",
            "        14    0.018970917383616059    0.00307915482518657   0.00065527849488188    1e-05\n",
            "        15    0.018149809430232974    -0.00082110795338309   0.00016582945850121    1e-05\n",
            "        16    0.018355086418578744    0.00020527698834577   0.00003944752984457    1e-05\n",
            "        17    0.018306785950732679    -0.00004830046784606   0.00000885293800150    1e-05\n",
            "n = 17\n",
            "x = -4\n",
            "e_to_x ≈ ∑_{i=0}^17 x^i/i! = 0.01830678595073268\n",
            "epsilon = 1e-05\n",
            "math.exp(x) =  0.01831563888873418\n"
          ]
        }
      ]
    },
    {
      "cell_type": "markdown",
      "metadata": {
        "id": "ZlcF8gIdjZ6t"
      },
      "source": [
        "# What is the minimun $n$ for which the $n$-th term of the Taylor series for $ln(x+1)$ about $0$ (Maclaurin  series) for $x$, is in absolute value less than  $\\epsilon$.\n",
        "\n",
        "$$\\min_{n \\in \\mathbb{N}}\\left|\\frac{x^{n}}{n!}\\right| < \\epsilon$$\n",
        "\n"
      ]
    },
    {
      "cell_type": "code",
      "metadata": {
        "id": "_8y-XrmvcCLf",
        "colab": {
          "base_uri": "https://localhost:8080/"
        },
        "outputId": "b8528724-14ce-4ada-f86d-a9381c5b2ca9"
      },
      "source": [
        "# Returns Min n, |x^{n}/n!| < epsilon and ∑_{i=0}^{n} x^i/i!\n",
        "import math\n",
        "\n",
        "x = 1\n",
        "epsilon = 10**(-2)\n",
        "\n",
        "ln_x_plus_1 = 0\n",
        "\n",
        "print(\"n\".rjust(10),\" \",\"Term_n\".center(21),\" \",\"|Term_n|\".center(20),\" \",\"epsilon\".center(20))\n",
        "term = 1\n",
        "i = 0\n",
        "while  epsilon <= abs(term):\n",
        "  term = ((-1)**i) * (x**i) / (i+1)\n",
        "  ln_x_plus_1 += term\n",
        "  print(format(i, '10'),\"  \", format(term, '.17f'),\"  \",format(abs(term), '.17f'),\"  \",\"{:.0e}\".format(epsilon)) \n",
        "  i = i+1\n",
        "  \n",
        "print(\"n =\", i-1) \n",
        "print('x =', x)\n",
        "print('ln(x+1) ≈ ∑_{i=0}^'+str(i-1),'(-1)^i * x^i / (i+1) =', ln_x_plus_1)\n",
        "print(\"epsilon =\", \"{:.0e}\".format(epsilon))\n",
        "print('math.exp(x) = ',math.exp(x))\n"
      ],
      "execution_count": 23,
      "outputs": [
        {
          "output_type": "stream",
          "name": "stdout",
          "text": [
            "         n           Term_n                |Term_n|               epsilon       \n",
            "         0    1.00000000000000000    1.00000000000000000    1e-02\n",
            "         1    -0.50000000000000000    0.50000000000000000    1e-02\n",
            "         2    0.33333333333333331    0.33333333333333331    1e-02\n",
            "         3    -0.25000000000000000    0.25000000000000000    1e-02\n",
            "         4    0.20000000000000001    0.20000000000000001    1e-02\n",
            "         5    -0.16666666666666666    0.16666666666666666    1e-02\n",
            "         6    0.14285714285714285    0.14285714285714285    1e-02\n",
            "         7    -0.12500000000000000    0.12500000000000000    1e-02\n",
            "         8    0.11111111111111110    0.11111111111111110    1e-02\n",
            "         9    -0.10000000000000001    0.10000000000000001    1e-02\n",
            "        10    0.09090909090909091    0.09090909090909091    1e-02\n",
            "        11    -0.08333333333333333    0.08333333333333333    1e-02\n",
            "        12    0.07692307692307693    0.07692307692307693    1e-02\n",
            "        13    -0.07142857142857142    0.07142857142857142    1e-02\n",
            "        14    0.06666666666666667    0.06666666666666667    1e-02\n",
            "        15    -0.06250000000000000    0.06250000000000000    1e-02\n",
            "        16    0.05882352941176471    0.05882352941176471    1e-02\n",
            "        17    -0.05555555555555555    0.05555555555555555    1e-02\n",
            "        18    0.05263157894736842    0.05263157894736842    1e-02\n",
            "        19    -0.05000000000000000    0.05000000000000000    1e-02\n",
            "        20    0.04761904761904762    0.04761904761904762    1e-02\n",
            "        21    -0.04545454545454546    0.04545454545454546    1e-02\n",
            "        22    0.04347826086956522    0.04347826086956522    1e-02\n",
            "        23    -0.04166666666666666    0.04166666666666666    1e-02\n",
            "        24    0.04000000000000000    0.04000000000000000    1e-02\n",
            "        25    -0.03846153846153846    0.03846153846153846    1e-02\n",
            "        26    0.03703703703703703    0.03703703703703703    1e-02\n",
            "        27    -0.03571428571428571    0.03571428571428571    1e-02\n",
            "        28    0.03448275862068965    0.03448275862068965    1e-02\n",
            "        29    -0.03333333333333333    0.03333333333333333    1e-02\n",
            "        30    0.03225806451612903    0.03225806451612903    1e-02\n",
            "        31    -0.03125000000000000    0.03125000000000000    1e-02\n",
            "        32    0.03030303030303030    0.03030303030303030    1e-02\n",
            "        33    -0.02941176470588235    0.02941176470588235    1e-02\n",
            "        34    0.02857142857142857    0.02857142857142857    1e-02\n",
            "        35    -0.02777777777777778    0.02777777777777778    1e-02\n",
            "        36    0.02702702702702703    0.02702702702702703    1e-02\n",
            "        37    -0.02631578947368421    0.02631578947368421    1e-02\n",
            "        38    0.02564102564102564    0.02564102564102564    1e-02\n",
            "        39    -0.02500000000000000    0.02500000000000000    1e-02\n",
            "        40    0.02439024390243903    0.02439024390243903    1e-02\n",
            "        41    -0.02380952380952381    0.02380952380952381    1e-02\n",
            "        42    0.02325581395348837    0.02325581395348837    1e-02\n",
            "        43    -0.02272727272727273    0.02272727272727273    1e-02\n",
            "        44    0.02222222222222222    0.02222222222222222    1e-02\n",
            "        45    -0.02173913043478261    0.02173913043478261    1e-02\n",
            "        46    0.02127659574468085    0.02127659574468085    1e-02\n",
            "        47    -0.02083333333333333    0.02083333333333333    1e-02\n",
            "        48    0.02040816326530612    0.02040816326530612    1e-02\n",
            "        49    -0.02000000000000000    0.02000000000000000    1e-02\n",
            "        50    0.01960784313725490    0.01960784313725490    1e-02\n",
            "        51    -0.01923076923076923    0.01923076923076923    1e-02\n",
            "        52    0.01886792452830189    0.01886792452830189    1e-02\n",
            "        53    -0.01851851851851852    0.01851851851851852    1e-02\n",
            "        54    0.01818181818181818    0.01818181818181818    1e-02\n",
            "        55    -0.01785714285714286    0.01785714285714286    1e-02\n",
            "        56    0.01754385964912281    0.01754385964912281    1e-02\n",
            "        57    -0.01724137931034483    0.01724137931034483    1e-02\n",
            "        58    0.01694915254237288    0.01694915254237288    1e-02\n",
            "        59    -0.01666666666666667    0.01666666666666667    1e-02\n",
            "        60    0.01639344262295082    0.01639344262295082    1e-02\n",
            "        61    -0.01612903225806452    0.01612903225806452    1e-02\n",
            "        62    0.01587301587301587    0.01587301587301587    1e-02\n",
            "        63    -0.01562500000000000    0.01562500000000000    1e-02\n",
            "        64    0.01538461538461539    0.01538461538461539    1e-02\n",
            "        65    -0.01515151515151515    0.01515151515151515    1e-02\n",
            "        66    0.01492537313432836    0.01492537313432836    1e-02\n",
            "        67    -0.01470588235294118    0.01470588235294118    1e-02\n",
            "        68    0.01449275362318841    0.01449275362318841    1e-02\n",
            "        69    -0.01428571428571429    0.01428571428571429    1e-02\n",
            "        70    0.01408450704225352    0.01408450704225352    1e-02\n",
            "        71    -0.01388888888888889    0.01388888888888889    1e-02\n",
            "        72    0.01369863013698630    0.01369863013698630    1e-02\n",
            "        73    -0.01351351351351351    0.01351351351351351    1e-02\n",
            "        74    0.01333333333333333    0.01333333333333333    1e-02\n",
            "        75    -0.01315789473684210    0.01315789473684210    1e-02\n",
            "        76    0.01298701298701299    0.01298701298701299    1e-02\n",
            "        77    -0.01282051282051282    0.01282051282051282    1e-02\n",
            "        78    0.01265822784810127    0.01265822784810127    1e-02\n",
            "        79    -0.01250000000000000    0.01250000000000000    1e-02\n",
            "        80    0.01234567901234568    0.01234567901234568    1e-02\n",
            "        81    -0.01219512195121951    0.01219512195121951    1e-02\n",
            "        82    0.01204819277108434    0.01204819277108434    1e-02\n",
            "        83    -0.01190476190476190    0.01190476190476190    1e-02\n",
            "        84    0.01176470588235294    0.01176470588235294    1e-02\n",
            "        85    -0.01162790697674419    0.01162790697674419    1e-02\n",
            "        86    0.01149425287356322    0.01149425287356322    1e-02\n",
            "        87    -0.01136363636363636    0.01136363636363636    1e-02\n",
            "        88    0.01123595505617977    0.01123595505617977    1e-02\n",
            "        89    -0.01111111111111111    0.01111111111111111    1e-02\n",
            "        90    0.01098901098901099    0.01098901098901099    1e-02\n",
            "        91    -0.01086956521739130    0.01086956521739130    1e-02\n",
            "        92    0.01075268817204301    0.01075268817204301    1e-02\n",
            "        93    -0.01063829787234043    0.01063829787234043    1e-02\n",
            "        94    0.01052631578947368    0.01052631578947368    1e-02\n",
            "        95    -0.01041666666666667    0.01041666666666667    1e-02\n",
            "        96    0.01030927835051546    0.01030927835051546    1e-02\n",
            "        97    -0.01020408163265306    0.01020408163265306    1e-02\n",
            "        98    0.01010101010101010    0.01010101010101010    1e-02\n",
            "        99    -0.01000000000000000    0.01000000000000000    1e-02\n",
            "       100    0.00990099009900990    0.00990099009900990    1e-02\n",
            "n = 100\n",
            "x = 1\n",
            "ln(x+1) ≈ ∑_{i=0}^100 (-1)^i * x^i / (i+1) = 0.6980731694092049\n",
            "epsilon = 1e-02\n",
            "math.exp(x) =  2.718281828459045\n"
          ]
        }
      ]
    },
    {
      "cell_type": "markdown",
      "metadata": {
        "id": "TxhZ8nnZpvbt"
      },
      "source": [
        "# Error using the Lagrange's formula of the Residual $E_n$\n",
        "\n",
        "* Form: Numerical Analysis Mathematics of Scientific Computing David Kincaid and Ward Cheney and Error estimates in Taylor approximations https://math.dartmouth.edu/~m8s17/ErrorEstimates.pdf\n",
        "\n",
        "## Lagrange's formula of the Residual\n",
        "For the Taylor series for $f(x)$\n",
        "\n",
        "$$ E_n = \\frac{f^{(n+1)}(\\xi)}{(n+1)!}(x-c)^{(n+1)} \\text{ for }  \\xi \\text{ between } c \\text{ and } x $$\n",
        "\n",
        "If you can find a positive real number $M$such that \n",
        "$$\\left|f^{(n+1)}(\\xi)\\right|  \\le M \\text{ for }  \\xi \\text{ between } c \\text{ and } x $$ for all\n",
        " then Lagrange’s formula tells you\n",
        "that\n",
        "$$ \\left| E_n \\right| \\le  \\frac{M}{(n+1)!}\n",
        "\\left|x − c\\right|^{(n+1)} $$\n",
        "\n",
        "For the Taylor series for $f(x) = e^x$ about $c=0$ (Maclaurin) \n",
        "\n",
        "* If $x \\ge 0$ then $f(n+1)(ξ)= ln (ξ+1) < ln(x+1)$ for any $0 \\le \\xi \\le x$ then \n",
        "\n",
        "$$ \\left|E_n \\right| =  \\left|\\frac{f^{(n+1)}(\\xi)}{(n+1)!}(x-c)^{(n+1)} \\right| = \\left|\\frac{ln (ξ+1)}{(n+1)!}x^{(n+1)} \\right| \\le \\left| \\frac{ln(x+1)}{(n+1)!}x^{(n+1)} \\right| $$\n",
        "\n",
        "\n",
        "\n"
      ]
    },
    {
      "cell_type": "markdown",
      "source": [
        "* If $x \\le 0$ then $f(n+1)(ξ)= ln (ξ+1) < ln(x+1) = 1$ \\\\\n",
        "\n",
        " for any $x \\le \\xi < 0$ then \n",
        "\n",
        "\\\\\n",
        "\n",
        "$$ \\left|E_n \\right| =  \\left|\\frac{f^{(n+1)}(\\xi)}{(n+1)!}(x-c)^{(n+1)} \\right| = \\left|\\frac{ln (ξ+1)}{(n+1)!}x^{(n+1)} \\right| \\le \\left| \\frac{ln(x+1)}{(n+1)!}x^{(n+1)} \\right| $$"
      ],
      "metadata": {
        "id": "q5c6Do4u4-PM"
      }
    },
    {
      "cell_type": "markdown",
      "metadata": {
        "id": "y1fLchcRq-mT"
      },
      "source": [
        "# What is the minimun $n$ for which the error using absolute value of the Lagrange's formula of the Residual $|E_n|$, of the Taylor series for $ln(x+1)$ about $0$ (Maclaurin  series), is less than  $\\epsilon$.\n",
        "\n",
        "$$ \\min_{n \\in \\mathbb{N}}|E_n|  < \\epsilon $$\n",
        "\n",
        "this is\n",
        "\n",
        "$$\\min_{n \\in \\mathbb{N}}\\left\\{ \\left|\\frac{ln(x+1)}{(n+1)!}x^{(n+1)} \\right| \\right\\} < \\epsilon \\text{ if }  x \\ge 0$$\n",
        "\n",
        "and\n",
        "\n",
        "$$\\min_{n \\in \\mathbb{N}}\\left\\{  \\left|\\frac{1}{(n+1)!}x^{(n+1)} \\right| \\right\\} < \\epsilon \\text{ if }  x < 0$$\n",
        " "
      ]
    },
    {
      "cell_type": "code",
      "metadata": {
        "colab": {
          "base_uri": "https://localhost:8080/"
        },
        "id": "hBLCJ5mUqu4T",
        "outputId": "5aca031b-9187-4f0a-cb03-3abcafd535a5"
      },
      "source": [
        "# Returns Min n, |Lagrange_Residual_n| < epsilon and ∑_{i=0}^{n} x^i/i!\n",
        "\n",
        "import math\n",
        "\n",
        "x = 6\n",
        "epsilon = 10**(-6)\n",
        "\n",
        "ln_x_plus_1 = 2\n",
        "\n",
        "print(\"n\".rjust(10),\" \",\" ∑_{i=0}^{n} x^i/i!\".center(21),\" \",\"|Lagrange_Residual_n|\".center(20),\" \",\"epsilon\".center(20))\n",
        "error = 1\n",
        "i = 0\n",
        "while  epsilon <= abs(error):\n",
        "  ln_x_plus_1 += (x**i) / math.factorial(i)\n",
        "  error = (x**(i+1)) / math.factorial(i+1)\n",
        "  print(format(i, '10'),\"  \", format(ln_x_plus_1, '.17f'),\"  \",format(error, '.17f'),\"  \",\"{:.0e}\".format(epsilon)) \n",
        "  i = i+1\n",
        "  \n",
        "print(\"n =\", i-1) \n",
        "print('x =', x)\n",
        "print('ln(x+1) ≈ ∑_{i=0}^'+str(i-1),'x^i/i! =', ln_x_plus_1)\n",
        "print(\"epsilon =\", \"{:.0e}\".format(epsilon))\n"
      ],
      "execution_count": 24,
      "outputs": [
        {
          "output_type": "stream",
          "name": "stdout",
          "text": [
            "         n     ∑_{i=0}^{n} x^i/i!    |Lagrange_Residual_n|         epsilon       \n",
            "         0    3.00000000000000000    6.00000000000000000    1e-06\n",
            "         1    9.00000000000000000    18.00000000000000000    1e-06\n",
            "         2    27.00000000000000000    36.00000000000000000    1e-06\n",
            "         3    63.00000000000000000    54.00000000000000000    1e-06\n",
            "         4    117.00000000000000000    64.79999999999999716    1e-06\n",
            "         5    181.80000000000001137    64.79999999999999716    1e-06\n",
            "         6    246.60000000000002274    55.54285714285714448    1e-06\n",
            "         7    302.14285714285716722    41.65714285714285836    1e-06\n",
            "         8    343.80000000000001137    27.77142857142857224    1e-06\n",
            "         9    371.57142857142855519    16.66285714285714192    1e-06\n",
            "        10    388.23428571428570422    9.08883116883116848    1e-06\n",
            "        11    397.32311688311688158    4.54441558441558424    1e-06\n",
            "        12    401.86753246753244184    2.09742257742257721    1e-06\n",
            "        13    403.96495504495499063    0.89889539032396171    1e-06\n",
            "        14    404.86385043527894823    0.35955815612958469    1e-06\n",
            "        15    405.22340859140854263    0.13483430854859427    1e-06\n",
            "        16    405.35824289995713343    0.04758857948773915    1e-06\n",
            "        17    405.40583147944488474    0.01586285982924638    1e-06\n",
            "        18    405.42169433927415412    0.00500932415660412    1e-06\n",
            "        19    405.42670366343077148    0.00150279724698124    1e-06\n",
            "        20    405.42820646067775670    0.00042937064199464    1e-06\n",
            "        21    405.42863583131975247    0.00011710108418036    1e-06\n",
            "        22    405.42875293240393830    0.00003054810891661    1e-06\n",
            "        23    405.42878348051283410    0.00000763702722915    1e-06\n",
            "        24    405.42879111754007226    0.00000183288653500    1e-06\n",
            "        25    405.42879295042661170    0.00000042297381577    1e-06\n",
            "n = 25\n",
            "x = 6\n",
            "ln(x+1) ≈ ∑_{i=0}^25 x^i/i! = 405.4287929504266\n",
            "epsilon = 1e-06\n"
          ]
        }
      ]
    },
    {
      "cell_type": "code",
      "source": [
        "# Returns Min n, |Lagrange_Residual_n| < epsilon and ∑_{i=0}^{n} x^i/i!\n",
        "\n",
        "import math\n",
        "\n",
        "x = -6\n",
        "epsilon = 10**(-6)\n",
        "\n",
        "ln_x_plus_1 = 2\n",
        "\n",
        "print(\"n\".rjust(10),\" \",\" ∑_{i=0}^{n} x^i/i!\".center(21),\" \",\"|Lagrange_Residual_n|\".center(20),\" \",\"epsilon\".center(20))\n",
        "error = 1\n",
        "i = 0\n",
        "while  epsilon <= abs(error):\n",
        "  ln_x_plus_1 += (x**i) / math.factorial(i)\n",
        "  error = (x**(i+1)) / math.factorial(i+1)\n",
        "  print(format(i, '10'),\"  \", format(ln_x_plus_1, '.17f'),\"  \",format(error, '.17f'),\"  \",\"{:.0e}\".format(epsilon)) \n",
        "  i = i+1\n",
        "  \n",
        "print(\"n =\", i-1) \n",
        "print('x =', x)\n",
        "print('ln(x+1) ≈ ∑_{i=0}^'+str(i-1),'x^i/i! =', ln_x_plus_1)\n",
        "print(\"epsilon =\", \"{:.0e}\".format(epsilon))"
      ],
      "metadata": {
        "colab": {
          "base_uri": "https://localhost:8080/"
        },
        "id": "EzCCSnD15R0X",
        "outputId": "0d494833-758e-4072-8eb1-ee0360bbaefb"
      },
      "execution_count": 25,
      "outputs": [
        {
          "output_type": "stream",
          "name": "stdout",
          "text": [
            "         n     ∑_{i=0}^{n} x^i/i!    |Lagrange_Residual_n|         epsilon       \n",
            "         0    3.00000000000000000    -6.00000000000000000    1e-06\n",
            "         1    -3.00000000000000000    18.00000000000000000    1e-06\n",
            "         2    15.00000000000000000    -36.00000000000000000    1e-06\n",
            "         3    -21.00000000000000000    54.00000000000000000    1e-06\n",
            "         4    33.00000000000000000    -64.79999999999999716    1e-06\n",
            "         5    -31.79999999999999716    64.79999999999999716    1e-06\n",
            "         6    33.00000000000000000    -55.54285714285714448    1e-06\n",
            "         7    -22.54285714285714448    41.65714285714285836    1e-06\n",
            "         8    19.11428571428571388    -27.77142857142857224    1e-06\n",
            "         9    -8.65714285714285836    16.66285714285714192    1e-06\n",
            "        10    8.00571428571428356    -9.08883116883116848    1e-06\n",
            "        11    -1.08311688311688492    4.54441558441558424    1e-06\n",
            "        12    3.46129870129869932    -2.09742257742257721    1e-06\n",
            "        13    1.36387612387612212    0.89889539032396171    1e-06\n",
            "        14    2.26277151420008371    -0.35955815612958469    1e-06\n",
            "        15    1.90321335807049907    0.13483430854859427    1e-06\n",
            "        16    2.03804766661909342    -0.04758857948773915    1e-06\n",
            "        17    1.99045908713135433    0.01586285982924638    1e-06\n",
            "        18    2.00632194696060084    -0.00500932415660412    1e-06\n",
            "        19    2.00131262280399680    0.00150279724698124    1e-06\n",
            "        20    2.00281542005097801    -0.00042937064199464    1e-06\n",
            "        21    2.00238604940898357    0.00011710108418036    1e-06\n",
            "        22    2.00250315049316407    -0.00003054810891661    1e-06\n",
            "        23    2.00247260238424740    0.00000763702722915    1e-06\n",
            "        24    2.00248023941147668    -0.00000183288653500    1e-06\n",
            "        25    2.00247840652494169    0.00000042297381577    1e-06\n",
            "n = 25\n",
            "x = -6\n",
            "ln(x+1) ≈ ∑_{i=0}^25 x^i/i! = 2.0024784065249417\n",
            "epsilon = 1e-06\n"
          ]
        }
      ]
    },
    {
      "cell_type": "markdown",
      "source": [
        "#  Sympy\n",
        "\n",
        "Taylor Series Expansion with Python from Data Science Fabric\n",
        "\n",
        "https://dsfabric.org/taylor-series-expansion-with-python"
      ],
      "metadata": {
        "id": "cx2-LoLzahoa"
      }
    },
    {
      "cell_type": "code",
      "source": [
        "from sympy import series, Symbol, pi, E, N\n",
        "from sympy.functions import exp\n",
        "from sympy.plotting import plot\n",
        "import matplotlib.pyplot as plt"
      ],
      "metadata": {
        "id": "hGQPpZ8gaVWN"
      },
      "execution_count": 26,
      "outputs": []
    },
    {
      "cell_type": "code",
      "source": [
        "# Define symbol\n",
        "x = Symbol('x')"
      ],
      "metadata": {
        "id": "qiHCCJ3napkY"
      },
      "execution_count": 27,
      "outputs": []
    },
    {
      "cell_type": "code",
      "source": [
        "import sympy \n",
        "# Function for Taylor Series Expansion\n",
        "\n",
        "\"\"\"\n",
        "    Parameter \"function\" is our function which we want to approximate\n",
        "    \"x0\" is the point where to approximate\n",
        "    \"n\" is the order of approximation \n",
        "\"\"\"\n",
        "\n",
        "def taylor(function, x0, n):\n",
        "    return function.series(x, x0, n)\n",
        "\n",
        "#  función ln(x+1)\n",
        "x = sympy.symbols('x')\n",
        "function = sympy.log(x + 1)"
      ],
      "metadata": {
        "id": "z9fkRjbJatry"
      },
      "execution_count": 28,
      "outputs": []
    },
    {
      "cell_type": "code",
      "source": [
        "print('ln(x+1)  ≅')\n",
        "taylor(sympy.log(x + 1), 0, 8)"
      ],
      "metadata": {
        "colab": {
          "base_uri": "https://localhost:8080/",
          "height": 72
        },
        "id": "bEtq3o7Waym6",
        "outputId": "90e67153-1317-4b06-9793-3b58c7af29a0"
      },
      "execution_count": 29,
      "outputs": [
        {
          "output_type": "stream",
          "name": "stdout",
          "text": [
            "ln(x+1)  ≅\n"
          ]
        },
        {
          "output_type": "execute_result",
          "data": {
            "text/plain": [
              "x - x**2/2 + x**3/3 - x**4/4 + x**5/5 - x**6/6 + x**7/7 + O(x**8)"
            ],
            "text/latex": "$\\displaystyle x - \\frac{x^{2}}{2} + \\frac{x^{3}}{3} - \\frac{x^{4}}{4} + \\frac{x^{5}}{5} - \\frac{x^{6}}{6} + \\frac{x^{7}}{7} + O\\left(x^{8}\\right)$"
          },
          "metadata": {},
          "execution_count": 29
        }
      ]
    },
    {
      "cell_type": "code",
      "source": [
        "print('ln(x+1) ≅', taylor(sympy.log(x + 1), 0, 8))"
      ],
      "metadata": {
        "colab": {
          "base_uri": "https://localhost:8080/"
        },
        "id": "VU2Q0vuYa_xQ",
        "outputId": "8cebae46-4eaa-44d3-c295-65e25bf04b27"
      },
      "execution_count": 30,
      "outputs": [
        {
          "output_type": "stream",
          "name": "stdout",
          "text": [
            "ln(x+1) ≅ x - x**2/2 + x**3/3 - x**4/4 + x**5/5 - x**6/6 + x**7/7 + O(x**8)\n"
          ]
        }
      ]
    },
    {
      "cell_type": "code",
      "source": [
        "print('ln(x+1) ≅ at around 1')\n",
        "taylor(sympy.log(x + 1), 1, 8)"
      ],
      "metadata": {
        "colab": {
          "base_uri": "https://localhost:8080/",
          "height": 75
        },
        "id": "iX0DNQdrbtdY",
        "outputId": "988a123f-1713-4e9a-ceff-599a47d9cede"
      },
      "execution_count": 31,
      "outputs": [
        {
          "output_type": "stream",
          "name": "stdout",
          "text": [
            "ln(x+1) ≅ at around 1\n"
          ]
        },
        {
          "output_type": "execute_result",
          "data": {
            "text/plain": [
              "log(2) - 1/2 - (x - 1)**2/8 + (x - 1)**3/24 - (x - 1)**4/64 + (x - 1)**5/160 - (x - 1)**6/384 + (x - 1)**7/896 + x/2 + O((x - 1)**8, (x, 1))"
            ],
            "text/latex": "$\\displaystyle \\log{\\left(2 \\right)} - \\frac{1}{2} - \\frac{\\left(x - 1\\right)^{2}}{8} + \\frac{\\left(x - 1\\right)^{3}}{24} - \\frac{\\left(x - 1\\right)^{4}}{64} + \\frac{\\left(x - 1\\right)^{5}}{160} - \\frac{\\left(x - 1\\right)^{6}}{384} + \\frac{\\left(x - 1\\right)^{7}}{896} + \\frac{x}{2} + O\\left(\\left(x - 1\\right)^{8}; x\\rightarrow 1\\right)$"
          },
          "metadata": {},
          "execution_count": 31
        }
      ]
    },
    {
      "cell_type": "code",
      "source": [
        "print('ln(2) =', taylor(sympy.log(x + 1), 0, 4).subs(x,1))"
      ],
      "metadata": {
        "colab": {
          "base_uri": "https://localhost:8080/"
        },
        "id": "0sfHK6K4b7KQ",
        "outputId": "ee8d530e-c5e0-4fbf-c948-3d48e1f8fd3b"
      },
      "execution_count": 32,
      "outputs": [
        {
          "output_type": "stream",
          "name": "stdout",
          "text": [
            "ln(2) = O(1)\n"
          ]
        }
      ]
    },
    {
      "cell_type": "code",
      "source": [
        "print('ln(2) =', N(taylor(exp(x), 0, 4).subs(x,1)))"
      ],
      "metadata": {
        "colab": {
          "base_uri": "https://localhost:8080/"
        },
        "id": "t64ikINpcL-v",
        "outputId": "94b4f902-be38-4144-dec6-18eddcaa9bf1"
      },
      "execution_count": 33,
      "outputs": [
        {
          "output_type": "stream",
          "name": "stdout",
          "text": [
            "ln(2) = O(1)\n"
          ]
        }
      ]
    },
    {
      "cell_type": "code",
      "source": [
        "print('Taylor 0 sympy.log(x + 1) ≅', taylor(sympy.log(x + 1), 0, 0))\n",
        "print('Taylor 1 sympy.log(x + 1) ≅', taylor(sympy.log(x + 1), 0, 1))\n",
        "print('Taylor 2 sympy.log(x + 1) ≅', taylor(sympy.log(x + 1), 0, 2))\n",
        "print('Taylor 3 sympy.log(x + 1) ≅', taylor(sympy.log(x + 1), 0, 3))\n",
        "print('Taylor 4 sympy.log(x + 1) ≅', taylor(sympy.log(x + 1), 0, 4))\n",
        "print('Taylor 5 sympy.log(x + 1) ≅', taylor(sympy.log(x + 1), 0, 5))\n",
        "print('Taylor 6 sympy.log(x + 1) ≅', taylor(sympy.log(x + 1), 0, 6))\n",
        "print('Taylor 7 sympy.log(x + 1) ≅', taylor(sympy.log(x + 1), 0, 7))\n",
        "print('Taylor 8 sympy.log(x + 1) ≅', taylor(sympy.log(x + 1), 0, 8))"
      ],
      "metadata": {
        "colab": {
          "base_uri": "https://localhost:8080/"
        },
        "id": "ytUFqliacVnQ",
        "outputId": "d9d0b16a-e715-48a7-8862-bc595bdae164"
      },
      "execution_count": 34,
      "outputs": [
        {
          "output_type": "stream",
          "name": "stdout",
          "text": [
            "Taylor 0 sympy.log(x + 1) ≅ O(1)\n",
            "Taylor 1 sympy.log(x + 1) ≅ O(x)\n",
            "Taylor 2 sympy.log(x + 1) ≅ x + O(x**2)\n",
            "Taylor 3 sympy.log(x + 1) ≅ x - x**2/2 + O(x**3)\n",
            "Taylor 4 sympy.log(x + 1) ≅ x - x**2/2 + x**3/3 + O(x**4)\n",
            "Taylor 5 sympy.log(x + 1) ≅ x - x**2/2 + x**3/3 - x**4/4 + O(x**5)\n",
            "Taylor 6 sympy.log(x + 1) ≅ x - x**2/2 + x**3/3 - x**4/4 + x**5/5 + O(x**6)\n",
            "Taylor 7 sympy.log(x + 1) ≅ x - x**2/2 + x**3/3 - x**4/4 + x**5/5 - x**6/6 + O(x**7)\n",
            "Taylor 8 sympy.log(x + 1) ≅ x - x**2/2 + x**3/3 - x**4/4 + x**5/5 - x**6/6 + x**7/7 + O(x**8)\n"
          ]
        }
      ]
    },
    {
      "cell_type": "code",
      "source": [
        "print('Taylor 0 sympy.log(x + 1) ≅', taylor(sympy.log(x + 1), 0, 0).subs(x,1))\n",
        "print('Taylor 1 sympy.log(x + 1) ≅', taylor(sympy.log(x + 1), 0, 1).subs(x,1))\n",
        "print('Taylor 2 sympy.log(x + 1) ≅', taylor(sympy.log(x + 1), 0, 2).subs(x,1))\n",
        "print('Taylor 3 sympy.log(x + 1) ≅', taylor(sympy.log(x + 1), 0, 3).subs(x,1))\n",
        "print('Taylor 4 sympy.log(x + 1) ≅', taylor(sympy.log(x + 1), 0, 4).subs(x,1))\n",
        "print('Taylor 5 sympy.log(x + 1) ≅', taylor(sympy.log(x + 1), 0, 5).subs(x,1))\n",
        "print('Taylor 6 sympy.log(x + 1) ≅', taylor(sympy.log(x + 1), 0, 6).subs(x,1))\n",
        "print('Taylor 7 sympy.log(x + 1) ≅', taylor(sympy.log(x + 1), 0, 7).subs(x,1))\n",
        "print('Taylor 8 sympy.log(x + 1) ≅', taylor(sympy.log(x + 1), 0, 8).subs(x,1))"
      ],
      "metadata": {
        "colab": {
          "base_uri": "https://localhost:8080/"
        },
        "id": "iGvi9RgacapA",
        "outputId": "a270e8e8-6d92-40c1-943a-7302e389fc5c"
      },
      "execution_count": 35,
      "outputs": [
        {
          "output_type": "stream",
          "name": "stdout",
          "text": [
            "Taylor 0 sympy.log(x + 1) ≅ O(1)\n",
            "Taylor 1 sympy.log(x + 1) ≅ O(1)\n",
            "Taylor 2 sympy.log(x + 1) ≅ O(1)\n",
            "Taylor 3 sympy.log(x + 1) ≅ O(1)\n",
            "Taylor 4 sympy.log(x + 1) ≅ O(1)\n",
            "Taylor 5 sympy.log(x + 1) ≅ O(1)\n",
            "Taylor 6 sympy.log(x + 1) ≅ O(1)\n",
            "Taylor 7 sympy.log(x + 1) ≅ O(1)\n",
            "Taylor 8 sympy.log(x + 1) ≅ O(1)\n"
          ]
        }
      ]
    },
    {
      "cell_type": "code",
      "source": [
        "print('Taylor 0 sympy.log(x + 1) ≅', N(taylor(sympy.log(x + 1), 0, 0).subs(x,1)))\n",
        "print('Taylor 1 sympy.log(x + 1) ≅', N(taylor(sympy.log(x + 1), 0, 1).subs(x,1)))\n",
        "print('Taylor 2 sympy.log(x + 1) ≅', N(taylor(sympy.log(x + 1), 0, 2).subs(x,1)))\n",
        "print('Taylor 3 sympy.log(x + 1) ≅', N(taylor(sympy.log(x + 1), 0, 3).subs(x,1)))\n",
        "print('Taylor 4 sympy.log(x + 1) ≅', N(taylor(sympy.log(x + 1), 0, 4).subs(x,1)))\n",
        "print('Taylor 5 sympy.log(x + 1) ≅', N(taylor(sympy.log(x + 1), 0, 5).subs(x,1)))\n",
        "print('Taylor 6 sympy.log(x + 1) ≅', N(taylor(sympy.log(x + 1), 0, 6).subs(x,1)))\n",
        "print('Taylor 7 sympy.log(x + 1) ≅', N(taylor(sympy.log(x + 1), 0, 7).subs(x,1)))\n",
        "print('Taylor 8 sympy.log(x + 1) ≅', N(taylor(sympy.log(x + 1), 0, 8).subs(x,1)))"
      ],
      "metadata": {
        "colab": {
          "base_uri": "https://localhost:8080/"
        },
        "id": "N_VVBah_crmQ",
        "outputId": "8855a2db-f40a-4e38-8e5e-3e47fe779660"
      },
      "execution_count": 36,
      "outputs": [
        {
          "output_type": "stream",
          "name": "stdout",
          "text": [
            "Taylor 0 sympy.log(x + 1) ≅ O(1)\n",
            "Taylor 1 sympy.log(x + 1) ≅ O(1)\n",
            "Taylor 2 sympy.log(x + 1) ≅ O(1)\n",
            "Taylor 3 sympy.log(x + 1) ≅ O(1)\n",
            "Taylor 4 sympy.log(x + 1) ≅ O(1)\n",
            "Taylor 5 sympy.log(x + 1) ≅ O(1)\n",
            "Taylor 6 sympy.log(x + 1) ≅ O(1)\n",
            "Taylor 7 sympy.log(x + 1) ≅ O(1)\n",
            "Taylor 8 sympy.log(x + 1) ≅ O(1)\n"
          ]
        }
      ]
    },
    {
      "cell_type": "code",
      "source": [
        "import sympy\n",
        "# Function for Taylor Series Expansion\n",
        "\n",
        "\"\"\"\n",
        "    Parameter \"function\" is our function which we want to approximate\n",
        "    \"x0\" is the point where to approximate\n",
        "    \"n\" is the order of approximation\n",
        "\"\"\"\n",
        "\n",
        "def taylor(function, x0, n):\n",
        "    x = sympy.symbols('x')\n",
        "    series = function.series(x, x0, n)\n",
        "    approx = series.removeO()\n",
        "    return approx\n",
        "\n",
        "\n",
        "# función ln(x+1)\n",
        "x = sympy.symbols('x')\n",
        "function = sympy.log(x + 1)\n"
      ],
      "metadata": {
        "id": "Gv65YRzdc3qQ"
      },
      "execution_count": 37,
      "outputs": []
    },
    {
      "cell_type": "code",
      "source": [
        "print('ln(x+1)  ≅')\n",
        "taylor(sympy.log(x + 1), 0, 8)"
      ],
      "metadata": {
        "colab": {
          "base_uri": "https://localhost:8080/",
          "height": 72
        },
        "id": "EQtZRYJpc5Ro",
        "outputId": "a48c9640-9323-4ad4-b96c-c8f3b50cf51f"
      },
      "execution_count": 38,
      "outputs": [
        {
          "output_type": "stream",
          "name": "stdout",
          "text": [
            "ln(x+1)  ≅\n"
          ]
        },
        {
          "output_type": "execute_result",
          "data": {
            "text/plain": [
              "x**7/7 - x**6/6 + x**5/5 - x**4/4 + x**3/3 - x**2/2 + x"
            ],
            "text/latex": "$\\displaystyle \\frac{x^{7}}{7} - \\frac{x^{6}}{6} + \\frac{x^{5}}{5} - \\frac{x^{4}}{4} + \\frac{x^{3}}{3} - \\frac{x^{2}}{2} + x$"
          },
          "metadata": {},
          "execution_count": 38
        }
      ]
    },
    {
      "cell_type": "code",
      "source": [
        "print('ln(x+1) ≅', taylor(sympy.log(x + 1), 0, 8))"
      ],
      "metadata": {
        "colab": {
          "base_uri": "https://localhost:8080/"
        },
        "id": "DcPjj8PWdBap",
        "outputId": "def7fe40-e47e-4746-f0c6-e242a133dc11"
      },
      "execution_count": 39,
      "outputs": [
        {
          "output_type": "stream",
          "name": "stdout",
          "text": [
            "ln(x+1) ≅ x**7/7 - x**6/6 + x**5/5 - x**4/4 + x**3/3 - x**2/2 + x\n"
          ]
        }
      ]
    },
    {
      "cell_type": "code",
      "source": [
        "print('ln(x+1) ≅ at around 1')\n",
        "taylor(sympy.log(x + 1), 1, 8)"
      ],
      "metadata": {
        "colab": {
          "base_uri": "https://localhost:8080/",
          "height": 75
        },
        "outputId": "741b265e-01ac-4557-a0ab-53490902d256",
        "id": "OXZgOve0dS67"
      },
      "execution_count": 40,
      "outputs": [
        {
          "output_type": "stream",
          "name": "stdout",
          "text": [
            "ln(x+1) ≅ at around 1\n"
          ]
        },
        {
          "output_type": "execute_result",
          "data": {
            "text/plain": [
              "x/2 + (x - 1)**7/896 - (x - 1)**6/384 + (x - 1)**5/160 - (x - 1)**4/64 + (x - 1)**3/24 - (x - 1)**2/8 - 1/2 + log(2)"
            ],
            "text/latex": "$\\displaystyle \\frac{x}{2} + \\frac{\\left(x - 1\\right)^{7}}{896} - \\frac{\\left(x - 1\\right)^{6}}{384} + \\frac{\\left(x - 1\\right)^{5}}{160} - \\frac{\\left(x - 1\\right)^{4}}{64} + \\frac{\\left(x - 1\\right)^{3}}{24} - \\frac{\\left(x - 1\\right)^{2}}{8} - \\frac{1}{2} + \\log{\\left(2 \\right)}$"
          },
          "metadata": {},
          "execution_count": 40
        }
      ]
    },
    {
      "cell_type": "code",
      "source": [
        "print('ln(2) =', taylor(sympy.log(x + 1), 0, 4).subs(x,1))"
      ],
      "metadata": {
        "colab": {
          "base_uri": "https://localhost:8080/"
        },
        "outputId": "7758e278-bcdd-4345-d000-66cc50ae0a10",
        "id": "8OvEA2B8dS69"
      },
      "execution_count": 41,
      "outputs": [
        {
          "output_type": "stream",
          "name": "stdout",
          "text": [
            "ln(2) = 5/6\n"
          ]
        }
      ]
    },
    {
      "cell_type": "code",
      "source": [
        "print('ln(2) =', N(taylor(sympy.log(x + 1), 0, 4).subs(x,1)))"
      ],
      "metadata": {
        "colab": {
          "base_uri": "https://localhost:8080/"
        },
        "outputId": "3a2cf07d-6f5f-4044-9c1b-91a88c347328",
        "id": "HjQaTc7QdS6-"
      },
      "execution_count": 42,
      "outputs": [
        {
          "output_type": "stream",
          "name": "stdout",
          "text": [
            "ln(2) = 0.833333333333333\n"
          ]
        }
      ]
    },
    {
      "cell_type": "code",
      "source": [
        "print('Taylor 0 sympy.log(x + 1) ≅', taylor(sympy.log(x + 1), 0, 0))\n",
        "print('Taylor 1 sympy.log(x + 1) ≅', taylor(sympy.log(x + 1), 0, 1))\n",
        "print('Taylor 2 sympy.log(x + 1) ≅', taylor(sympy.log(x + 1), 0, 2))\n",
        "print('Taylor 3 sympy.log(x + 1) ≅', taylor(sympy.log(x + 1), 0, 3))\n",
        "print('Taylor 4 sympy.log(x + 1) ≅', taylor(sympy.log(x + 1), 0, 4))\n",
        "print('Taylor 5 sympy.log(x + 1) ≅', taylor(sympy.log(x + 1), 0, 5))\n",
        "print('Taylor 6 sympy.log(x + 1) ≅', taylor(sympy.log(x + 1), 0, 6))\n",
        "print('Taylor 7 sympy.log(x + 1) ≅', taylor(sympy.log(x + 1), 0, 7))\n",
        "print('Taylor 8 sympy.log(x + 1) ≅', taylor(sympy.log(x + 1), 0, 8))"
      ],
      "metadata": {
        "colab": {
          "base_uri": "https://localhost:8080/"
        },
        "outputId": "2a12ae79-bc96-41b4-fdd7-edd55acf4354",
        "id": "8H_qhh0OdS6-"
      },
      "execution_count": 43,
      "outputs": [
        {
          "output_type": "stream",
          "name": "stdout",
          "text": [
            "Taylor 0 sympy.log(x + 1) ≅ 0\n",
            "Taylor 1 sympy.log(x + 1) ≅ 0\n",
            "Taylor 2 sympy.log(x + 1) ≅ x\n",
            "Taylor 3 sympy.log(x + 1) ≅ -x**2/2 + x\n",
            "Taylor 4 sympy.log(x + 1) ≅ x**3/3 - x**2/2 + x\n",
            "Taylor 5 sympy.log(x + 1) ≅ -x**4/4 + x**3/3 - x**2/2 + x\n",
            "Taylor 6 sympy.log(x + 1) ≅ x**5/5 - x**4/4 + x**3/3 - x**2/2 + x\n",
            "Taylor 7 sympy.log(x + 1) ≅ -x**6/6 + x**5/5 - x**4/4 + x**3/3 - x**2/2 + x\n",
            "Taylor 8 sympy.log(x + 1) ≅ x**7/7 - x**6/6 + x**5/5 - x**4/4 + x**3/3 - x**2/2 + x\n"
          ]
        }
      ]
    },
    {
      "cell_type": "code",
      "source": [
        "print('Taylor 0 sympy.log(x + 1) ≅', taylor(sympy.log(x + 1), 0, 0).subs(x,1))\n",
        "print('Taylor 1 sympy.log(x + 1) ≅', taylor(sympy.log(x + 1), 0, 1).subs(x,1))\n",
        "print('Taylor 2 sympy.log(x + 1) ≅', taylor(sympy.log(x + 1), 0, 2).subs(x,1))\n",
        "print('Taylor 3 sympy.log(x + 1) ≅', taylor(sympy.log(x + 1), 0, 3).subs(x,1))\n",
        "print('Taylor 4 sympy.log(x + 1) ≅', taylor(sympy.log(x + 1), 0, 4).subs(x,1))\n",
        "print('Taylor 5 sympy.log(x + 1) ≅', taylor(sympy.log(x + 1), 0, 5).subs(x,1))\n",
        "print('Taylor 6 sympy.log(x + 1) ≅', taylor(sympy.log(x + 1), 0, 6).subs(x,1))\n",
        "print('Taylor 7 sympy.log(x + 1) ≅', taylor(sympy.log(x + 1), 0, 7).subs(x,1))\n",
        "print('Taylor 8 sympy.log(x + 1) ≅', taylor(sympy.log(x + 1), 0, 8).subs(x,1))"
      ],
      "metadata": {
        "colab": {
          "base_uri": "https://localhost:8080/"
        },
        "outputId": "b8fe5427-6444-4741-9dbd-ee92a04b7f09",
        "id": "Nlwipl8zdS6_"
      },
      "execution_count": 44,
      "outputs": [
        {
          "output_type": "stream",
          "name": "stdout",
          "text": [
            "Taylor 0 sympy.log(x + 1) ≅ 0\n",
            "Taylor 1 sympy.log(x + 1) ≅ 0\n",
            "Taylor 2 sympy.log(x + 1) ≅ 1\n",
            "Taylor 3 sympy.log(x + 1) ≅ 1/2\n",
            "Taylor 4 sympy.log(x + 1) ≅ 5/6\n",
            "Taylor 5 sympy.log(x + 1) ≅ 7/12\n",
            "Taylor 6 sympy.log(x + 1) ≅ 47/60\n",
            "Taylor 7 sympy.log(x + 1) ≅ 37/60\n",
            "Taylor 8 sympy.log(x + 1) ≅ 319/420\n"
          ]
        }
      ]
    },
    {
      "cell_type": "code",
      "source": [
        "print('Taylor 0 sympy.log(x + 1) ≅', N(taylor(sympy.log(x + 1), 0, 0).subs(x,1)))\n",
        "print('Taylor 1 sympy.log(x + 1) ≅', N(taylor(sympy.log(x + 1), 0, 1).subs(x,1)))\n",
        "print('Taylor 2 sympy.log(x + 1) ≅', N(taylor(sympy.log(x + 1), 0, 2).subs(x,1)))\n",
        "print('Taylor 3 sympy.log(x + 1) ≅', N(taylor(sympy.log(x + 1), 0, 3).subs(x,1)))\n",
        "print('Taylor 4 sympy.log(x + 1) ≅', N(taylor(sympy.log(x + 1), 0, 4).subs(x,1)))\n",
        "print('Taylor 5 sympy.log(x + 1) ≅', N(taylor(sympy.log(x + 1), 0, 5).subs(x,1)))\n",
        "print('Taylor 6 sympy.log(x + 1) ≅', N(taylor(sympy.log(x + 1), 0, 6).subs(x,1)))\n",
        "print('Taylor 7 sympy.log(x + 1) ≅', N(taylor(sympy.log(x + 1), 0, 7).subs(x,1)))\n",
        "print('Taylor 8 sympy.log(x + 1) ≅', N(taylor(sympy.log(x + 1), 0, 8).subs(x,1)))"
      ],
      "metadata": {
        "colab": {
          "base_uri": "https://localhost:8080/"
        },
        "outputId": "8f85958a-3012-4fdf-8466-9c8d2084e583",
        "id": "xAotZ1UMdS7A"
      },
      "execution_count": 45,
      "outputs": [
        {
          "output_type": "stream",
          "name": "stdout",
          "text": [
            "Taylor 0 sympy.log(x + 1) ≅ 0\n",
            "Taylor 1 sympy.log(x + 1) ≅ 0\n",
            "Taylor 2 sympy.log(x + 1) ≅ 1.00000000000000\n",
            "Taylor 3 sympy.log(x + 1) ≅ 0.500000000000000\n",
            "Taylor 4 sympy.log(x + 1) ≅ 0.833333333333333\n",
            "Taylor 5 sympy.log(x + 1) ≅ 0.583333333333333\n",
            "Taylor 6 sympy.log(x + 1) ≅ 0.783333333333333\n",
            "Taylor 7 sympy.log(x + 1) ≅ 0.616666666666667\n",
            "Taylor 8 sympy.log(x + 1) ≅ 0.759523809523809\n"
          ]
        }
      ]
    },
    {
      "cell_type": "code",
      "source": [
        "import math\n",
        "import numpy as np\n",
        "import matplotlib.pyplot as plt\n",
        "\n",
        "# if using a Jupyter notebook, include:\n",
        "%matplotlib inline\n",
        "\n",
        "def taylor_ln(x, a, n):\n",
        "    result = 0\n",
        "    for i in range(n):\n",
        "        result += ((-1) ** i) * ((x - a) ** (i + 1)) / (i + 1)\n",
        "    return result\n",
        "\n",
        "values = np.arange(-0.9, 1, 0.01)\n",
        "ln_values = np.log(values + 1)\n",
        "t_ln1 = [taylor_ln(x, 0, 1) for x in values]\n",
        "\n",
        "legends = ['ln(x+1)', 'Taylor 0 (constante)']\n",
        "\n",
        "fig, ax = plt.subplots()\n",
        "ax.plot(values, ln_values, color='red')\n",
        "ax.plot(values, t_ln1)\n",
        "\n",
        "ax.set_ylim([-2, 2])\n",
        "ax.axhline(y=0.0, xmin=-1.0, xmax=1.0, color='black')\n",
        "ax.axvline(x=0.0, ymin=-2, ymax=2, color='black')\n",
        "ax.legend(legends)\n",
        "\n",
        "plt.show()\n",
        "\n",
        "\n"
      ],
      "metadata": {
        "colab": {
          "base_uri": "https://localhost:8080/",
          "height": 435
        },
        "id": "ckWMJz7_deTZ",
        "outputId": "7e3818eb-3f82-409f-d22b-a801c8e3b19a"
      },
      "execution_count": 46,
      "outputs": [
        {
          "output_type": "display_data",
          "data": {
            "text/plain": [
              "<Figure size 640x480 with 1 Axes>"
            ],
            "image/png": "[encoded data removed]"
          },
          "metadata": {}
        }
      ]
    }
  ]
}