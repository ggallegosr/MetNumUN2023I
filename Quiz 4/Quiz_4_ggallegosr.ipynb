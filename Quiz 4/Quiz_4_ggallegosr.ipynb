{
  "nbformat": 4,
  "nbformat_minor": 0,
  "metadata": {
    "colab": {
      "provenance": []
    },
    "kernelspec": {
      "name": "python3",
      "display_name": "Python 3"
    },
    "language_info": {
      "name": "python"
    }
  },
  "cells": [
    {
      "cell_type": "markdown",
      "source": [
        "**QUIZ 4**\n",
        "\n",
        "Gabriela Gallegos Rubio"
      ],
      "metadata": {
        "id": "S3bav2fKKyWf"
      }
    },
    {
      "cell_type": "code",
      "execution_count": null,
      "metadata": {
        "id": "oalR9_22J869"
      },
      "outputs": [],
      "source": [
        "### EJERCICIO 1\n",
        "def FizzBuzz(x):\n",
        "    a=\"\"\n",
        "    if x %3==0 and not x%5==0:\n",
        "      a=\"Fizz!\"\n",
        "    elif x%5==0 and not x%3==0:\n",
        "      a=\"Buzz!\"\n",
        "    elif x%3 ==0 and x%5==0:\n",
        "      a=\"FizzBuzz!\"\n",
        "    else:\n",
        "      a=\"...\"\n",
        "\n",
        "    return a\n"
      ]
    },
    {
      "cell_type": "code",
      "source": [
        "### EJERCICIO 2\n",
        "def FizzBuzzList(n):\n",
        "    ans = []\n",
        "    for i in range(1,n+1):\n",
        "        ans.append(FizzBuzz(i))\n",
        "\n",
        "    return ans"
      ],
      "metadata": {
        "id": "9F9ukqpzKY07"
      },
      "execution_count": null,
      "outputs": []
    },
    {
      "cell_type": "code",
      "source": [
        "### EJERCICIO 3\n",
        "import numpy as np\n",
        "\n",
        "def standarize(X):\n",
        "  X_standarized = (X-X.mean())/X.std()\n",
        "  return X_standarized"
      ],
      "metadata": {
        "id": "mifxdVgMKfk9"
      },
      "execution_count": null,
      "outputs": []
    },
    {
      "cell_type": "code",
      "source": [
        "### EJERCICIO 4\n",
        "import numpy as np\n",
        "\n",
        "def main_diagonal_matrix(A):\n",
        "  D = np.diag(np.diag(A)).astype(float)\n",
        "  return D"
      ],
      "metadata": {
        "id": "aWXZbYJzKnYw"
      },
      "execution_count": null,
      "outputs": []
    }
  ]
}
